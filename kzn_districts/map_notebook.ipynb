{
 "cells": [
  {
   "cell_type": "code",
   "execution_count": 1,
   "id": "642d19be-bf83-457b-9c3c-b0a086647250",
   "metadata": {},
   "outputs": [],
   "source": [
    "import pandas as pd\n",
    "from map_renderer import MapRenderer"
   ]
  },
  {
   "cell_type": "markdown",
   "id": "535eecb0-5d7b-4bce-9d46-89edc41e888b",
   "metadata": {},
   "source": [
    "Вместо многоточия ниже подставьте путь к своему .csv-файлу"
   ]
  },
  {
   "cell_type": "code",
   "execution_count": 2,
   "id": "b75df7c8-032e-4fc4-b454-e6c60144ea4c",
   "metadata": {},
   "outputs": [],
   "source": [
    "points_df = pd.read_csv(\"points.csv\")\n",
    "districts_df = pd.read_csv(\"data.csv\")"
   ]
  },
  {
   "cell_type": "code",
   "execution_count": 3,
   "id": "2a2f356f-7a1d-4e63-a394-55b046ddf584",
   "metadata": {},
   "outputs": [
    {
     "data": {
      "text/html": [
       "<div>\n",
       "<style scoped>\n",
       "    .dataframe tbody tr th:only-of-type {\n",
       "        vertical-align: middle;\n",
       "    }\n",
       "\n",
       "    .dataframe tbody tr th {\n",
       "        vertical-align: top;\n",
       "    }\n",
       "\n",
       "    .dataframe thead th {\n",
       "        text-align: right;\n",
       "    }\n",
       "</style>\n",
       "<table border=\"1\" class=\"dataframe\">\n",
       "  <thead>\n",
       "    <tr style=\"text-align: right;\">\n",
       "      <th></th>\n",
       "      <th>district</th>\n",
       "      <th>points</th>\n",
       "      <th>center</th>\n",
       "      <th>color</th>\n",
       "    </tr>\n",
       "  </thead>\n",
       "  <tbody>\n",
       "    <tr>\n",
       "      <th>0</th>\n",
       "      <td>Советский р-н</td>\n",
       "      <td>[(55.75996203, 49.16506946), (55.79701666, 49....</td>\n",
       "      <td>(55.805004311874995, 49.23040275562501)</td>\n",
       "      <td>green</td>\n",
       "    </tr>\n",
       "    <tr>\n",
       "      <th>1</th>\n",
       "      <td>Кировский р-н</td>\n",
       "      <td>[(55.79457119, 49.00296876), (55.80102575, 48....</td>\n",
       "      <td>(55.80937605199999, 49.040008285)</td>\n",
       "      <td>blue</td>\n",
       "    </tr>\n",
       "    <tr>\n",
       "      <th>2</th>\n",
       "      <td>Приволжский р-н</td>\n",
       "      <td>[(55.6981604, 49.06306173), (55.70005112, 49.0...</td>\n",
       "      <td>(55.729423043749996, 49.174167560625)</td>\n",
       "      <td>yellow</td>\n",
       "    </tr>\n",
       "    <tr>\n",
       "      <th>3</th>\n",
       "      <td>Московский р-н</td>\n",
       "      <td>[(55.82896952, 49.0427987), (55.83514383, 49.0...</td>\n",
       "      <td>(55.833949531818185, 49.06147238818182)</td>\n",
       "      <td>red</td>\n",
       "    </tr>\n",
       "    <tr>\n",
       "      <th>4</th>\n",
       "      <td>Авиастроительный р-н</td>\n",
       "      <td>[(55.84739923, 49.05944653), (55.8512175, 49.0...</td>\n",
       "      <td>(55.852398027999996, 49.088770507)</td>\n",
       "      <td>pink</td>\n",
       "    </tr>\n",
       "    <tr>\n",
       "      <th>5</th>\n",
       "      <td>Ново-Савиновский р-н</td>\n",
       "      <td>[(55.83355611, 49.09205691), (55.84317032, 49....</td>\n",
       "      <td>(55.83234370083334, 49.1258152975)</td>\n",
       "      <td>white</td>\n",
       "    </tr>\n",
       "    <tr>\n",
       "      <th>6</th>\n",
       "      <td>Вахитовский р-н</td>\n",
       "      <td>[(55.75989995, 49.08043905), (55.76170341, 49....</td>\n",
       "      <td>(55.78057865909091, 49.12680007272727)</td>\n",
       "      <td>black</td>\n",
       "    </tr>\n",
       "    <tr>\n",
       "      <th>7</th>\n",
       "      <td>Верхнеуслонский р-н</td>\n",
       "      <td>[(55.7601299, 48.98041104), (55.7681986, 48.98...</td>\n",
       "      <td>(55.76527063666666, 48.98666369888889)</td>\n",
       "      <td>brown</td>\n",
       "    </tr>\n",
       "  </tbody>\n",
       "</table>\n",
       "</div>"
      ],
      "text/plain": [
       "               district                                             points  \\\n",
       "0         Советский р-н  [(55.75996203, 49.16506946), (55.79701666, 49....   \n",
       "1         Кировский р-н  [(55.79457119, 49.00296876), (55.80102575, 48....   \n",
       "2       Приволжский р-н  [(55.6981604, 49.06306173), (55.70005112, 49.0...   \n",
       "3        Московский р-н  [(55.82896952, 49.0427987), (55.83514383, 49.0...   \n",
       "4  Авиастроительный р-н  [(55.84739923, 49.05944653), (55.8512175, 49.0...   \n",
       "5  Ново-Савиновский р-н  [(55.83355611, 49.09205691), (55.84317032, 49....   \n",
       "6       Вахитовский р-н  [(55.75989995, 49.08043905), (55.76170341, 49....   \n",
       "7   Верхнеуслонский р-н  [(55.7601299, 48.98041104), (55.7681986, 48.98...   \n",
       "\n",
       "                                    center   color  \n",
       "0  (55.805004311874995, 49.23040275562501)   green  \n",
       "1        (55.80937605199999, 49.040008285)    blue  \n",
       "2    (55.729423043749996, 49.174167560625)  yellow  \n",
       "3  (55.833949531818185, 49.06147238818182)     red  \n",
       "4       (55.852398027999996, 49.088770507)    pink  \n",
       "5       (55.83234370083334, 49.1258152975)   white  \n",
       "6   (55.78057865909091, 49.12680007272727)   black  \n",
       "7   (55.76527063666666, 48.98666369888889)   brown  "
      ]
     },
     "execution_count": 3,
     "metadata": {},
     "output_type": "execute_result"
    }
   ],
   "source": [
    "districts_df"
   ]
  },
  {
   "cell_type": "code",
   "execution_count": 4,
   "id": "144f548b-7f96-48bb-9225-29ecd2f057f9",
   "metadata": {},
   "outputs": [],
   "source": [
    "renderer = MapRenderer(districts_df, points_df)"
   ]
  },
  {
   "cell_type": "code",
   "execution_count": 38,
   "id": "757d5fe5-4239-41a4-b41d-794fe7ffabb9",
   "metadata": {},
   "outputs": [
    {
     "data": {
      "application/vnd.jupyter.widget-view+json": {
       "model_id": "871130a720e64e6e80e2c1d02e36c4bf",
       "version_major": 2,
       "version_minor": 0
      },
      "text/plain": [
       "Map(center=[55.795355, 49.107272], controls=(ZoomControl(options=['position', 'zoom_in_text', 'zoom_in_title',…"
      ]
     },
     "execution_count": 38,
     "metadata": {},
     "output_type": "execute_result"
    }
   ],
   "source": [
    "renderer.get_map()\n"
   ]
  },
  {
   "cell_type": "code",
   "execution_count": null,
   "id": "a54f15fb-2cdd-469c-98e1-23e6031cd99b",
   "metadata": {},
   "outputs": [],
   "source": []
  },
  {
   "cell_type": "code",
   "execution_count": null,
   "id": "5c8b04df-6130-4604-82e9-e2372985e011",
   "metadata": {},
   "outputs": [],
   "source": []
  }
 ],
 "metadata": {
  "kernelspec": {
   "display_name": "Python 3 (ipykernel)",
   "language": "python",
   "name": "python3"
  },
  "language_info": {
   "codemirror_mode": {
    "name": "ipython",
    "version": 3
   },
   "file_extension": ".py",
   "mimetype": "text/x-python",
   "name": "python",
   "nbconvert_exporter": "python",
   "pygments_lexer": "ipython3",
   "version": "3.11.5"
  }
 },
 "nbformat": 4,
 "nbformat_minor": 5
}
